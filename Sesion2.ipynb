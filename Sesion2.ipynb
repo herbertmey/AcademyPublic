{
  "nbformat": 4,
  "nbformat_minor": 0,
  "metadata": {
    "colab": {
      "name": "Untitled1.ipynb",
      "provenance": [],
      "authorship_tag": "ABX9TyMgK0yEGDdDcH9cFsExWDUZ",
      "include_colab_link": true
    },
    "kernelspec": {
      "name": "python3",
      "display_name": "Python 3"
    },
    "language_info": {
      "name": "python"
    }
  },
  "cells": [
    {
      "cell_type": "markdown",
      "metadata": {
        "id": "view-in-github",
        "colab_type": "text"
      },
      "source": [
        "<a href=\"https://colab.research.google.com/github/herbertmey/AcademyPublic/blob/main/Sesion2.ipynb\" target=\"_parent\"><img src=\"https://colab.research.google.com/assets/colab-badge.svg\" alt=\"Open In Colab\"/></a>"
      ]
    },
    {
      "cell_type": "code",
      "metadata": {
        "id": "d6UmmSj8UfAq"
      },
      "source": [
        "#test"
      ],
      "execution_count": null,
      "outputs": []
    },
    {
      "cell_type": "code",
      "metadata": {
        "id": "K1YKb9-rUh3d",
        "outputId": "43316e6f-4ce0-4510-e558-59c4df87ccee",
        "colab": {
          "resources": {
            "http://localhost:8080/nbextensions/google.colab/files.js": {
              "data": "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",
              "ok": true,
              "headers": [
                [
                  "content-type",
                  "application/javascript"
                ]
              ],
              "status": 200,
              "status_text": ""
            }
          },
          "base_uri": "https://localhost:8080/",
          "height": 71
        }
      },
      "source": [
        "\n",
        "!pip install -q kaggle\n",
        "from google.colab import files\n",
        "files.upload()\n",
        "#create a kaggle folder\n",
        "!mkdir ~/.kaggle\n"
      ],
      "execution_count": 1,
      "outputs": [
        {
          "output_type": "display_data",
          "data": {
            "text/html": [
              "\n",
              "     <input type=\"file\" id=\"files-4e8dd0b6-b73f-4ac2-b768-63a12f5de4e0\" name=\"files[]\" multiple disabled\n",
              "        style=\"border:none\" />\n",
              "     <output id=\"result-4e8dd0b6-b73f-4ac2-b768-63a12f5de4e0\">\n",
              "      Upload widget is only available when the cell has been executed in the\n",
              "      current browser session. Please rerun this cell to enable.\n",
              "      </output>\n",
              "      <script src=\"/nbextensions/google.colab/files.js\"></script> "
            ],
            "text/plain": [
              "<IPython.core.display.HTML object>"
            ]
          },
          "metadata": {}
        },
        {
          "output_type": "stream",
          "name": "stdout",
          "text": [
            "Saving kaggle.json to kaggle.json\n"
          ]
        }
      ]
    },
    {
      "cell_type": "code",
      "metadata": {
        "id": "Nn6U12bq8VSn",
        "outputId": "ae99b031-c0ed-4b46-bbb7-999df585c92b",
        "colab": {
          "base_uri": "https://localhost:8080/"
        }
      },
      "source": [
        "# Go on kaggle > Account > Create New API token\n",
        "# Save the json file in your laptop in a dedicated folder\n",
        "\n",
        "# copy the kaggle.json to folder created\n",
        "!cp kaggle.json ~/.kaggle\n",
        "#permission for the json to act\n",
        "!chmod 600 ~/.kaggle/kaggle.json\n",
        "\n",
        "# Datasets available here: \n",
        "# https://www.kaggle.com/uciml/red-wine-quality-cortez-et-al-2009\n",
        "!kaggle datasets download -d uciml/red-wine-quality-cortez-et-al-2009\n",
        "!unzip red-wine-quality-cortez-et-al-2009.zip"
      ],
      "execution_count": 2,
      "outputs": [
        {
          "output_type": "stream",
          "name": "stdout",
          "text": [
            "Downloading red-wine-quality-cortez-et-al-2009.zip to /content\n",
            "\r  0% 0.00/25.6k [00:00<?, ?B/s]\n",
            "\r100% 25.6k/25.6k [00:00<00:00, 22.6MB/s]\n",
            "Archive:  red-wine-quality-cortez-et-al-2009.zip\n",
            "  inflating: winequality-red.csv     \n"
          ]
        }
      ]
    },
    {
      "cell_type": "code",
      "metadata": {
        "id": "DeRrUSkN85gB",
        "outputId": "4f89ddea-7788-4771-ae24-9d3bef192e02",
        "colab": {
          "base_uri": "https://localhost:8080/"
        }
      },
      "source": [
        "##### Python as a programming language basics\n",
        "\n",
        "# The usage of the hashtag represents a comment. everything on the same line and after\n",
        "# will be not take into account\n",
        "\n",
        "# If you execute the content of a cell, only the last element will be displayed\n",
        "7+3\n",
        "7-3\n",
        "7*3\n",
        "21/2\n",
        "21//2 # floor division\n",
        "21%2 # modulo\n",
        "21**2 # exponential"
      ],
      "execution_count": 3,
      "outputs": [
        {
          "output_type": "execute_result",
          "data": {
            "text/plain": [
              "441"
            ]
          },
          "metadata": {},
          "execution_count": 3
        }
      ]
    },
    {
      "cell_type": "code",
      "metadata": {
        "id": "j7eL91Uk9BwF",
        "outputId": "33b21c4c-0378-4cae-c129-b4c925221ec3",
        "colab": {
          "base_uri": "https://localhost:8080/"
        }
      },
      "source": [
        "21%2"
      ],
      "execution_count": 4,
      "outputs": [
        {
          "output_type": "execute_result",
          "data": {
            "text/plain": [
              "1"
            ]
          },
          "metadata": {},
          "execution_count": 4
        }
      ]
    },
    {
      "cell_type": "code",
      "metadata": {
        "id": "ulS-Fk799KgW",
        "outputId": "36ca2faf-07e5-42b7-e7c6-15b1da1a227f",
        "colab": {
          "base_uri": "https://localhost:8080/"
        }
      },
      "source": [
        "7+3\n",
        "7-3"
      ],
      "execution_count": 5,
      "outputs": [
        {
          "output_type": "execute_result",
          "data": {
            "text/plain": [
              "4"
            ]
          },
          "metadata": {},
          "execution_count": 5
        }
      ]
    },
    {
      "cell_type": "code",
      "metadata": {
        "id": "WL-RTdOz9WlO",
        "outputId": "6ff0dade-850c-4b17-da3f-03dc54e4434a",
        "colab": {
          "base_uri": "https://localhost:8080/"
        }
      },
      "source": [
        "21**2"
      ],
      "execution_count": 6,
      "outputs": [
        {
          "output_type": "execute_result",
          "data": {
            "text/plain": [
              "441"
            ]
          },
          "metadata": {},
          "execution_count": 6
        }
      ]
    },
    {
      "cell_type": "code",
      "metadata": {
        "id": "MYzvIIW_9ynV"
      },
      "source": [
        "gg=2 #It means that now, Python knows that the value of gg is 2"
      ],
      "execution_count": 7,
      "outputs": []
    },
    {
      "cell_type": "code",
      "metadata": {
        "id": "rKCW35wR92ZN",
        "outputId": "dde82b8a-d2ea-40f2-f0f7-2eb9b08bd97a",
        "colab": {
          "base_uri": "https://localhost:8080/"
        }
      },
      "source": [
        "gg==3 #Here, '==' means: Does gg is equal to 3 ? Given that you created a variable just before saying "
      ],
      "execution_count": 8,
      "outputs": [
        {
          "output_type": "execute_result",
          "data": {
            "text/plain": [
              "False"
            ]
          },
          "metadata": {},
          "execution_count": 8
        }
      ]
    },
    {
      "cell_type": "code",
      "metadata": {
        "id": "rp-ArpuG-F0z"
      },
      "source": [
        "gg:3"
      ],
      "execution_count": 9,
      "outputs": []
    },
    {
      "cell_type": "code",
      "metadata": {
        "id": "YoPAj3LI-Kid",
        "outputId": "86b9e4ec-4d9c-4e77-b700-66bf9ce8e93d",
        "colab": {
          "base_uri": "https://localhost:8080/"
        }
      },
      "source": [
        "gg==3"
      ],
      "execution_count": 10,
      "outputs": [
        {
          "output_type": "execute_result",
          "data": {
            "text/plain": [
              "False"
            ]
          },
          "metadata": {},
          "execution_count": 10
        }
      ]
    },
    {
      "cell_type": "code",
      "metadata": {
        "id": "aaKldjYP-UXF"
      },
      "source": [
        "gg=3"
      ],
      "execution_count": 11,
      "outputs": []
    },
    {
      "cell_type": "code",
      "metadata": {
        "id": "kmY7y3Pk-XxX",
        "outputId": "53659467-1273-4ad8-fcf5-49b056f0522b",
        "colab": {
          "base_uri": "https://localhost:8080/"
        }
      },
      "source": [
        "gg==3 "
      ],
      "execution_count": 12,
      "outputs": [
        {
          "output_type": "execute_result",
          "data": {
            "text/plain": [
              "True"
            ]
          },
          "metadata": {},
          "execution_count": 12
        }
      ]
    },
    {
      "cell_type": "code",
      "metadata": {
        "id": "cTAjp6RD-mX4"
      },
      "source": [
        "\n",
        "cities = ['Paris', 'Zurich', 'Rome', 'Berlin', 'London']"
      ],
      "execution_count": 13,
      "outputs": []
    },
    {
      "cell_type": "code",
      "metadata": {
        "id": "x-HWgdLH-ur9",
        "outputId": "e461283f-e8a5-4c2d-8abf-a9f9a8505ec3",
        "colab": {
          "base_uri": "https://localhost:8080/"
        }
      },
      "source": [
        "print(cities[0])"
      ],
      "execution_count": 14,
      "outputs": [
        {
          "output_type": "stream",
          "name": "stdout",
          "text": [
            "Paris\n"
          ]
        }
      ]
    },
    {
      "cell_type": "code",
      "metadata": {
        "id": "vf6BX0jm_Pqw",
        "outputId": "f8f4423d-c4d1-450b-f7c4-5749f36dbbec",
        "colab": {
          "base_uri": "https://localhost:8080/"
        }
      },
      "source": [
        "# You can access the element by the end:\n",
        "print(cities[-1])"
      ],
      "execution_count": 15,
      "outputs": [
        {
          "output_type": "stream",
          "name": "stdout",
          "text": [
            "London\n"
          ]
        }
      ]
    },
    {
      "cell_type": "code",
      "metadata": {
        "id": "TJHSVaT2_mDJ",
        "outputId": "6b22d039-007a-4c5b-cf09-849ccf25841a",
        "colab": {
          "base_uri": "https://localhost:8080/"
        }
      },
      "source": [
        "# In order to insert an element in a list: list.insert(1, element)\n",
        "# To insert HK between Zurich & Milan\n",
        "cities.insert(2, 'HK')\n",
        "print(cities)\n",
        "\n",
        "# In order to add an element at the end of the list:\n",
        "cities.append('Rio')\n",
        "print(cities)"
      ],
      "execution_count": 16,
      "outputs": [
        {
          "output_type": "stream",
          "name": "stdout",
          "text": [
            "['Paris', 'Zurich', 'HK', 'Rome', 'Berlin', 'London']\n",
            "['Paris', 'Zurich', 'HK', 'Rome', 'Berlin', 'London', 'Rio']\n"
          ]
        }
      ]
    },
    {
      "cell_type": "code",
      "metadata": {
        "id": "SaCzpL_u_26A",
        "outputId": "3fae7426-f54a-427a-8bf1-55ada1e50c13",
        "colab": {
          "base_uri": "https://localhost:8080/"
        }
      },
      "source": [
        "# In order to remove an element from the list:\n",
        "cities.remove('Paris')\n",
        "print(cities)"
      ],
      "execution_count": 17,
      "outputs": [
        {
          "output_type": "stream",
          "name": "stdout",
          "text": [
            "['Zurich', 'HK', 'Rome', 'Berlin', 'London', 'Rio']\n"
          ]
        }
      ]
    },
    {
      "cell_type": "code",
      "metadata": {
        "id": "dfdwv5uAAEct",
        "outputId": "06910cd4-aacd-4c2e-f554-b5ce9baaba08",
        "colab": {
          "base_uri": "https://localhost:8080/"
        }
      },
      "source": [
        "# In this list we only have textual elements, we can add some numerical one:\n",
        "cities.insert(2, 848)\n",
        "print(cities)\n",
        "cities.append(848)\n",
        "print(cities)\n",
        "# You can see that we have 2 values of 848 in our list. The remove function only remove the \n",
        "# first time Python see the value:\n",
        "cities.remove(848)\n",
        "print(cities)\n",
        "# We will see later how to delete all the values 848."
      ],
      "execution_count": 18,
      "outputs": [
        {
          "output_type": "stream",
          "name": "stdout",
          "text": [
            "['Zurich', 'HK', 848, 'Rome', 'Berlin', 'London', 'Rio']\n",
            "['Zurich', 'HK', 848, 'Rome', 'Berlin', 'London', 'Rio', 848]\n",
            "['Zurich', 'HK', 'Rome', 'Berlin', 'London', 'Rio', 848]\n"
          ]
        }
      ]
    },
    {
      "cell_type": "code",
      "metadata": {
        "id": "PtaGXPahAWEA",
        "outputId": "c641c67d-7a99-4c41-b1d4-14ccf4bacb77",
        "colab": {
          "base_uri": "https://localhost:8080/"
        }
      },
      "source": [
        "\n",
        "# If you want to access the index (= the position) of an element in the list:\n",
        "print(cities.index(\"HK\"))"
      ],
      "execution_count": 19,
      "outputs": [
        {
          "output_type": "stream",
          "name": "stdout",
          "text": [
            "1\n"
          ]
        }
      ]
    },
    {
      "cell_type": "code",
      "metadata": {
        "id": "7HIEbK3-Acz9",
        "outputId": "57647348-9a78-4c27-f26a-e57191dc3139",
        "colab": {
          "base_uri": "https://localhost:8080/"
        }
      },
      "source": [
        "new_list = [1, 3, 5, 2]\n",
        "cities = cities + new_list\n",
        "print(cities)"
      ],
      "execution_count": 20,
      "outputs": [
        {
          "output_type": "stream",
          "name": "stdout",
          "text": [
            "['Zurich', 'HK', 'Rome', 'Berlin', 'London', 'Rio', 848, 1, 3, 5, 2]\n"
          ]
        }
      ]
    },
    {
      "cell_type": "code",
      "metadata": {
        "id": "Tq3NLbOsC5Qp",
        "outputId": "99a59fdc-9094-4d31-a42b-15df0aecb636",
        "colab": {
          "base_uri": "https://localhost:8080/"
        }
      },
      "source": [
        "### Loop\n",
        "# while loop: loop until the condition happened -> can run to the infinity\n",
        "# Ex while loop\n",
        "N=15\n",
        "total = 0\n",
        "counter = 1\n",
        "while counter <= N:\n",
        "  total += counter # total = total+counter\n",
        "  counter += 1\n",
        "  print(total)"
      ],
      "execution_count": 21,
      "outputs": [
        {
          "output_type": "stream",
          "name": "stdout",
          "text": [
            "1\n",
            "3\n",
            "6\n",
            "10\n",
            "15\n",
            "21\n",
            "28\n",
            "36\n",
            "45\n",
            "55\n",
            "66\n",
            "78\n",
            "91\n",
            "105\n",
            "120\n"
          ]
        }
      ]
    },
    {
      "cell_type": "code",
      "metadata": {
        "id": "ZjzgUYH5FU_D",
        "outputId": "67460729-c9ed-4642-c308-a4ece8477106",
        "colab": {
          "base_uri": "https://localhost:8080/"
        }
      },
      "source": [
        "# for loop (most used): loop on all the defined elements of an object.\n",
        "# Ex for loop\n",
        "fruits = ['apple', 'pear', 'cherry']\n",
        "for i in fruits:\n",
        "  print(i)"
      ],
      "execution_count": 22,
      "outputs": [
        {
          "output_type": "stream",
          "name": "stdout",
          "text": [
            "apple\n",
            "pear\n",
            "cherry\n"
          ]
        }
      ]
    },
    {
      "cell_type": "code",
      "metadata": {
        "id": "j4FptYAaFw0x",
        "outputId": "f738e1d6-6965-4a72-d17e-cb9f13a14096",
        "colab": {
          "base_uri": "https://localhost:8080/"
        }
      },
      "source": [
        "# It is as well possible to do a loop within a loop (a nested loop):\n",
        "list_of_list = [['a', 'b', 'c'], [1, 2, 3]]\n",
        "for sub_list in list_of_list:\n",
        "  print(\"We treat the list: \", sub_list)\n",
        "  for element in sub_list:\n",
        "    print('We display the element: ', element)"
      ],
      "execution_count": 23,
      "outputs": [
        {
          "output_type": "stream",
          "name": "stdout",
          "text": [
            "We treat the list:  ['a', 'b', 'c']\n",
            "We display the element:  a\n",
            "We display the element:  b\n",
            "We display the element:  c\n",
            "We treat the list:  [1, 2, 3]\n",
            "We display the element:  1\n",
            "We display the element:  2\n",
            "We display the element:  3\n"
          ]
        }
      ]
    },
    {
      "cell_type": "code",
      "metadata": {
        "id": "WPu9gMpYF9cM",
        "outputId": "b9855e41-e5e1-49c8-e731-aec4a3e87994",
        "colab": {
          "base_uri": "https://localhost:8080/"
        }
      },
      "source": [
        "def area(length, width):\n",
        "  ''' Function calculating the area of a rectangle\n",
        "  Parameters:\n",
        "  length: TYPE float\n",
        "    Measure of the length of a rectangle\n",
        "  width: TYPE float\n",
        "    Measure the width of a rectangle\n",
        "\n",
        "  Return:\n",
        "    area: TYPE float\n",
        "  '''\n",
        "  my_area = length * width\n",
        "\n",
        "  return my_area\n",
        "\n",
        "area(11,4)"
      ],
      "execution_count": 24,
      "outputs": [
        {
          "output_type": "execute_result",
          "data": {
            "text/plain": [
              "44"
            ]
          },
          "metadata": {},
          "execution_count": 24
        }
      ]
    },
    {
      "cell_type": "code",
      "metadata": {
        "id": "FaLtf5WlJRpa"
      },
      "source": [
        "### Start of pandas and numpy\n",
        "import pandas as pd # Here I import a library named pandas which is specialized in\n",
        "# data manipulation. I give an alias pd it is a kind of pseudonyme where pd refers to pandas.\n",
        "import numpy as np\n",
        "df = pd.read_csv('/content/winequality-red.csv')\n",
        "# Here I use the function read_csv from the pandas package and I assign it to a database named df.\n",
        "# There is a lot of possible parameters in the read_csv function: Always check the documentation.\n",
        "# https://pandas.pydata.org/docs/reference/api/pandas.read_csv.html\n"
      ],
      "execution_count": 25,
      "outputs": []
    },
    {
      "cell_type": "code",
      "metadata": {
        "id": "_hp-Iz0XLaMQ",
        "outputId": "1d718c9d-604a-46e4-b53e-2de08a8fed8b",
        "colab": {
          "base_uri": "https://localhost:8080/",
          "height": 729
        }
      },
      "source": [
        "# You can have a look on the first lines:\n",
        "df.head() #You can specify a number in the parenthesis in order to see a specific number of lines\n",
        "df.tail() # It shows the last lines\n",
        "\n",
        "# List of useful functions to have general overview on the dataframe:\n",
        "df.dtypes # To see the type of each feature\n",
        "df.describe() # To have some descriptive statistics\n",
        "df.info() # Same as dtypes + more information such as the number of non missing values\n",
        "df.shape # In order to have the number of lines and columns of the dataframe\n",
        "len(df) # In order to have the number of lines\n",
        "\n",
        "### Now let's do some data manipulation\n",
        "# Select a column:\n",
        "df['fixed acidity'].head(2) # If you select 1 feature: dataframe['name_feature']\n",
        "# Select multiple columns\n",
        "df[['fixed acidity', 'volatile acidity']].head(2) \n",
        "# If you select 2 or more features: dataframe[['feature1', 'feature2']]\n",
        "\n",
        "# Now, let's do some filters -> select lines from a condition\n",
        "mask1 = df['fixed acidity'] >7 # As we saw in the Python basics part, df['fixed acidity'] >7\n",
        "# refers to a question, does the value (here, each line) is >7 ; True or False\n",
        "# You can display mask1 to see how it is composed, you will see it is a list of boolean.\n",
        "df[mask1].min() # Then, we integreate the list of boulean in: dataframe[list_boolean]\n",
        "# The output is only composed by values >7 that we can check with the .min() function.\n",
        "\n",
        "# You are not obliged to create a mask, you can directly write the condition within:\n",
        "df[df['fixed acidity'] >7]\n",
        "\n",
        "# You can check that indeed the output are exactly the same:\n",
        "df[mask1] == df[df['fixed acidity'] >7]\n",
        "\n",
        "# If you want to select a part of the population between 2 values:\n",
        "mask2 = df['fixed acidity'].between(7,8)\n",
        "# https://pandas.pydata.org/docs/reference/api/pandas.Series.between.html\n",
        "\n",
        "df[mask2].min()\n",
        "df[mask2]['fixed acidity'].min()\n",
        "df[mask2][['fixed acidity', 'density']].min()\n",
        "\n",
        "# If you want to do several conditions, the '&' means 'and' ; the '|' means 'or'\n",
        "\n",
        "# Here I want the residual sugars <= 1.9 or >= 2.3 , and sulphates < 0.7301\n",
        "mask3 = (((df['residual sugar'] >= 2.3) | (df['residual sugar'] <= 1.9)) & (df['sulphates'] < 0.7301))\n",
        "df[mask3].describe()\n",
        "\n",
        "# Keep in mind, you have to associate line of script to a variable/object however it\n",
        "# is not saved in memory\n",
        "len(df)\n",
        "df2 = df[mask3]\n",
        "len(df2)\n",
        "\n",
        "# We didn't have the time to see this but please read it\n",
        "# Here I create a function having the name citric_acid_cat with the parameter x\n",
        "# In the function, x will pass within a conditional statement. Given the value,\n",
        "# it will return a letter (a category):\n",
        "def citric_acid_cat(x):\n",
        "  if x < 0.21 :\n",
        "    return 'A'\n",
        "  elif x < 0.3 :\n",
        "    return 'B'\n",
        "  else:\n",
        "    return 'C'\n",
        "\n",
        "# Now we want to create a new feature citric_cat, which transform the numerical value\n",
        "# of citric acid to the category defined above for each line of the feature.\n",
        "# We could create a for loop. However the apply lambda is more efficient from a computing point of view \n",
        "# The x refers to the x of the function which is df['citric acid']\n",
        "df['citric_cat'] = df['citric acid'].apply(lambda x: citric_acid_cat(x))\n",
        "\n",
        "# When you do a mask, it is not only on numerical features but as well on categoricals:\n",
        "mask5 = (((df['residual sugar'] >= 2.3) | (df['residual sugar'] <= 1.9)) & (df['sulphates'] < 0.7301) & (df['citric_cat'] == 'A'))\n",
        "df[mask5]\n",
        "# On this example, I want to focus only on the category A so it is quick to write.\n",
        "# However it is not always the case and you can filter through a list:\n",
        "\n",
        "list_cat_to_keep = ['A', 'C']\n",
        "mask6 = (((df['residual sugar'] >= 2.3) | (df['residual sugar'] <= 1.9)) & (df['sulphates'] < 0.7301) & (df['citric_cat'].isin(list_cat_to_keep)))\n",
        "df[mask6]\n",
        "# dataframe['feature'].isin(list_specified) creates the list (the pandas Series to be precise) of boolean\n",
        "\n",
        "# To finish, you could want all the element of a feature execpt those that you specify in a list.\n",
        "# Let's say, you want to analyse all the citri_cat that are not in the list (here the cat=B)\n",
        "# You can use: ~dataframe['feature'].isin(list_specified) // The '~' means not isin:\n",
        "mask7 = (((df['residual sugar'] >= 2.3) | (df['residual sugar'] <= 1.9)) & (df['sulphates'] < 0.7301) & (~df['citric_cat'].isin(list_cat_to_keep)))\n",
        "df[mask7] #As you see, you only have the category 'B' of citric_cat."
      ],
      "execution_count": 26,
      "outputs": [
        {
          "output_type": "stream",
          "name": "stdout",
          "text": [
            "<class 'pandas.core.frame.DataFrame'>\n",
            "RangeIndex: 1599 entries, 0 to 1598\n",
            "Data columns (total 12 columns):\n",
            " #   Column                Non-Null Count  Dtype  \n",
            "---  ------                --------------  -----  \n",
            " 0   fixed acidity         1599 non-null   float64\n",
            " 1   volatile acidity      1599 non-null   float64\n",
            " 2   citric acid           1599 non-null   float64\n",
            " 3   residual sugar        1599 non-null   float64\n",
            " 4   chlorides             1599 non-null   float64\n",
            " 5   free sulfur dioxide   1599 non-null   float64\n",
            " 6   total sulfur dioxide  1599 non-null   float64\n",
            " 7   density               1599 non-null   float64\n",
            " 8   pH                    1599 non-null   float64\n",
            " 9   sulphates             1599 non-null   float64\n",
            " 10  alcohol               1599 non-null   float64\n",
            " 11  quality               1599 non-null   int64  \n",
            "dtypes: float64(11), int64(1)\n",
            "memory usage: 150.0 KB\n"
          ]
        },
        {
          "output_type": "execute_result",
          "data": {
            "text/html": [
              "<div>\n",
              "<style scoped>\n",
              "    .dataframe tbody tr th:only-of-type {\n",
              "        vertical-align: middle;\n",
              "    }\n",
              "\n",
              "    .dataframe tbody tr th {\n",
              "        vertical-align: top;\n",
              "    }\n",
              "\n",
              "    .dataframe thead th {\n",
              "        text-align: right;\n",
              "    }\n",
              "</style>\n",
              "<table border=\"1\" class=\"dataframe\">\n",
              "  <thead>\n",
              "    <tr style=\"text-align: right;\">\n",
              "      <th></th>\n",
              "      <th>fixed acidity</th>\n",
              "      <th>volatile acidity</th>\n",
              "      <th>citric acid</th>\n",
              "      <th>residual sugar</th>\n",
              "      <th>chlorides</th>\n",
              "      <th>free sulfur dioxide</th>\n",
              "      <th>total sulfur dioxide</th>\n",
              "      <th>density</th>\n",
              "      <th>pH</th>\n",
              "      <th>sulphates</th>\n",
              "      <th>alcohol</th>\n",
              "      <th>quality</th>\n",
              "      <th>citric_cat</th>\n",
              "    </tr>\n",
              "  </thead>\n",
              "  <tbody>\n",
              "    <tr>\n",
              "      <th>26</th>\n",
              "      <td>7.6</td>\n",
              "      <td>0.41</td>\n",
              "      <td>0.24</td>\n",
              "      <td>1.8</td>\n",
              "      <td>0.080</td>\n",
              "      <td>4.0</td>\n",
              "      <td>11.0</td>\n",
              "      <td>0.99620</td>\n",
              "      <td>3.28</td>\n",
              "      <td>0.59</td>\n",
              "      <td>9.500000</td>\n",
              "      <td>5</td>\n",
              "      <td>B</td>\n",
              "    </tr>\n",
              "    <tr>\n",
              "      <th>34</th>\n",
              "      <td>5.2</td>\n",
              "      <td>0.32</td>\n",
              "      <td>0.25</td>\n",
              "      <td>1.8</td>\n",
              "      <td>0.103</td>\n",
              "      <td>13.0</td>\n",
              "      <td>50.0</td>\n",
              "      <td>0.99570</td>\n",
              "      <td>3.38</td>\n",
              "      <td>0.55</td>\n",
              "      <td>9.200000</td>\n",
              "      <td>5</td>\n",
              "      <td>B</td>\n",
              "    </tr>\n",
              "    <tr>\n",
              "      <th>48</th>\n",
              "      <td>6.4</td>\n",
              "      <td>0.40</td>\n",
              "      <td>0.23</td>\n",
              "      <td>1.6</td>\n",
              "      <td>0.066</td>\n",
              "      <td>5.0</td>\n",
              "      <td>12.0</td>\n",
              "      <td>0.99580</td>\n",
              "      <td>3.34</td>\n",
              "      <td>0.56</td>\n",
              "      <td>9.200000</td>\n",
              "      <td>5</td>\n",
              "      <td>B</td>\n",
              "    </tr>\n",
              "    <tr>\n",
              "      <th>72</th>\n",
              "      <td>7.7</td>\n",
              "      <td>0.69</td>\n",
              "      <td>0.22</td>\n",
              "      <td>1.9</td>\n",
              "      <td>0.084</td>\n",
              "      <td>18.0</td>\n",
              "      <td>94.0</td>\n",
              "      <td>0.99610</td>\n",
              "      <td>3.31</td>\n",
              "      <td>0.48</td>\n",
              "      <td>9.500000</td>\n",
              "      <td>5</td>\n",
              "      <td>B</td>\n",
              "    </tr>\n",
              "    <tr>\n",
              "      <th>87</th>\n",
              "      <td>7.7</td>\n",
              "      <td>0.49</td>\n",
              "      <td>0.26</td>\n",
              "      <td>1.9</td>\n",
              "      <td>0.062</td>\n",
              "      <td>9.0</td>\n",
              "      <td>31.0</td>\n",
              "      <td>0.99660</td>\n",
              "      <td>3.39</td>\n",
              "      <td>0.64</td>\n",
              "      <td>9.600000</td>\n",
              "      <td>5</td>\n",
              "      <td>B</td>\n",
              "    </tr>\n",
              "    <tr>\n",
              "      <th>...</th>\n",
              "      <td>...</td>\n",
              "      <td>...</td>\n",
              "      <td>...</td>\n",
              "      <td>...</td>\n",
              "      <td>...</td>\n",
              "      <td>...</td>\n",
              "      <td>...</td>\n",
              "      <td>...</td>\n",
              "      <td>...</td>\n",
              "      <td>...</td>\n",
              "      <td>...</td>\n",
              "      <td>...</td>\n",
              "      <td>...</td>\n",
              "    </tr>\n",
              "    <tr>\n",
              "      <th>1493</th>\n",
              "      <td>7.7</td>\n",
              "      <td>0.54</td>\n",
              "      <td>0.26</td>\n",
              "      <td>1.9</td>\n",
              "      <td>0.089</td>\n",
              "      <td>23.0</td>\n",
              "      <td>147.0</td>\n",
              "      <td>0.99636</td>\n",
              "      <td>3.26</td>\n",
              "      <td>0.59</td>\n",
              "      <td>9.700000</td>\n",
              "      <td>5</td>\n",
              "      <td>B</td>\n",
              "    </tr>\n",
              "    <tr>\n",
              "      <th>1496</th>\n",
              "      <td>7.7</td>\n",
              "      <td>0.54</td>\n",
              "      <td>0.26</td>\n",
              "      <td>1.9</td>\n",
              "      <td>0.089</td>\n",
              "      <td>23.0</td>\n",
              "      <td>147.0</td>\n",
              "      <td>0.99636</td>\n",
              "      <td>3.26</td>\n",
              "      <td>0.59</td>\n",
              "      <td>9.700000</td>\n",
              "      <td>5</td>\n",
              "      <td>B</td>\n",
              "    </tr>\n",
              "    <tr>\n",
              "      <th>1501</th>\n",
              "      <td>7.8</td>\n",
              "      <td>0.82</td>\n",
              "      <td>0.29</td>\n",
              "      <td>4.3</td>\n",
              "      <td>0.083</td>\n",
              "      <td>21.0</td>\n",
              "      <td>64.0</td>\n",
              "      <td>0.99642</td>\n",
              "      <td>3.16</td>\n",
              "      <td>0.53</td>\n",
              "      <td>9.400000</td>\n",
              "      <td>5</td>\n",
              "      <td>B</td>\n",
              "    </tr>\n",
              "    <tr>\n",
              "      <th>1514</th>\n",
              "      <td>6.9</td>\n",
              "      <td>0.84</td>\n",
              "      <td>0.21</td>\n",
              "      <td>4.1</td>\n",
              "      <td>0.074</td>\n",
              "      <td>16.0</td>\n",
              "      <td>65.0</td>\n",
              "      <td>0.99842</td>\n",
              "      <td>3.53</td>\n",
              "      <td>0.72</td>\n",
              "      <td>9.233333</td>\n",
              "      <td>6</td>\n",
              "      <td>B</td>\n",
              "    </tr>\n",
              "    <tr>\n",
              "      <th>1515</th>\n",
              "      <td>6.9</td>\n",
              "      <td>0.84</td>\n",
              "      <td>0.21</td>\n",
              "      <td>4.1</td>\n",
              "      <td>0.074</td>\n",
              "      <td>16.0</td>\n",
              "      <td>65.0</td>\n",
              "      <td>0.99842</td>\n",
              "      <td>3.53</td>\n",
              "      <td>0.72</td>\n",
              "      <td>9.250000</td>\n",
              "      <td>6</td>\n",
              "      <td>B</td>\n",
              "    </tr>\n",
              "  </tbody>\n",
              "</table>\n",
              "<p>143 rows × 13 columns</p>\n",
              "</div>"
            ],
            "text/plain": [
              "      fixed acidity  volatile acidity  ...  quality  citric_cat\n",
              "26              7.6              0.41  ...        5           B\n",
              "34              5.2              0.32  ...        5           B\n",
              "48              6.4              0.40  ...        5           B\n",
              "72              7.7              0.69  ...        5           B\n",
              "87              7.7              0.49  ...        5           B\n",
              "...             ...               ...  ...      ...         ...\n",
              "1493            7.7              0.54  ...        5           B\n",
              "1496            7.7              0.54  ...        5           B\n",
              "1501            7.8              0.82  ...        5           B\n",
              "1514            6.9              0.84  ...        6           B\n",
              "1515            6.9              0.84  ...        6           B\n",
              "\n",
              "[143 rows x 13 columns]"
            ]
          },
          "metadata": {},
          "execution_count": 26
        }
      ]
    },
    {
      "cell_type": "code",
      "metadata": {
        "id": "OQjShi75MLod",
        "outputId": "cfde7e37-ae0d-466c-9771-75f0d650e44c",
        "colab": {
          "base_uri": "https://localhost:8080/",
          "height": 414
        }
      },
      "source": [
        "df"
      ],
      "execution_count": 27,
      "outputs": [
        {
          "output_type": "execute_result",
          "data": {
            "text/html": [
              "<div>\n",
              "<style scoped>\n",
              "    .dataframe tbody tr th:only-of-type {\n",
              "        vertical-align: middle;\n",
              "    }\n",
              "\n",
              "    .dataframe tbody tr th {\n",
              "        vertical-align: top;\n",
              "    }\n",
              "\n",
              "    .dataframe thead th {\n",
              "        text-align: right;\n",
              "    }\n",
              "</style>\n",
              "<table border=\"1\" class=\"dataframe\">\n",
              "  <thead>\n",
              "    <tr style=\"text-align: right;\">\n",
              "      <th></th>\n",
              "      <th>fixed acidity</th>\n",
              "      <th>volatile acidity</th>\n",
              "      <th>citric acid</th>\n",
              "      <th>residual sugar</th>\n",
              "      <th>chlorides</th>\n",
              "      <th>free sulfur dioxide</th>\n",
              "      <th>total sulfur dioxide</th>\n",
              "      <th>density</th>\n",
              "      <th>pH</th>\n",
              "      <th>sulphates</th>\n",
              "      <th>alcohol</th>\n",
              "      <th>quality</th>\n",
              "      <th>citric_cat</th>\n",
              "    </tr>\n",
              "  </thead>\n",
              "  <tbody>\n",
              "    <tr>\n",
              "      <th>0</th>\n",
              "      <td>7.4</td>\n",
              "      <td>0.700</td>\n",
              "      <td>0.00</td>\n",
              "      <td>1.9</td>\n",
              "      <td>0.076</td>\n",
              "      <td>11.0</td>\n",
              "      <td>34.0</td>\n",
              "      <td>0.99780</td>\n",
              "      <td>3.51</td>\n",
              "      <td>0.56</td>\n",
              "      <td>9.4</td>\n",
              "      <td>5</td>\n",
              "      <td>A</td>\n",
              "    </tr>\n",
              "    <tr>\n",
              "      <th>1</th>\n",
              "      <td>7.8</td>\n",
              "      <td>0.880</td>\n",
              "      <td>0.00</td>\n",
              "      <td>2.6</td>\n",
              "      <td>0.098</td>\n",
              "      <td>25.0</td>\n",
              "      <td>67.0</td>\n",
              "      <td>0.99680</td>\n",
              "      <td>3.20</td>\n",
              "      <td>0.68</td>\n",
              "      <td>9.8</td>\n",
              "      <td>5</td>\n",
              "      <td>A</td>\n",
              "    </tr>\n",
              "    <tr>\n",
              "      <th>2</th>\n",
              "      <td>7.8</td>\n",
              "      <td>0.760</td>\n",
              "      <td>0.04</td>\n",
              "      <td>2.3</td>\n",
              "      <td>0.092</td>\n",
              "      <td>15.0</td>\n",
              "      <td>54.0</td>\n",
              "      <td>0.99700</td>\n",
              "      <td>3.26</td>\n",
              "      <td>0.65</td>\n",
              "      <td>9.8</td>\n",
              "      <td>5</td>\n",
              "      <td>A</td>\n",
              "    </tr>\n",
              "    <tr>\n",
              "      <th>3</th>\n",
              "      <td>11.2</td>\n",
              "      <td>0.280</td>\n",
              "      <td>0.56</td>\n",
              "      <td>1.9</td>\n",
              "      <td>0.075</td>\n",
              "      <td>17.0</td>\n",
              "      <td>60.0</td>\n",
              "      <td>0.99800</td>\n",
              "      <td>3.16</td>\n",
              "      <td>0.58</td>\n",
              "      <td>9.8</td>\n",
              "      <td>6</td>\n",
              "      <td>C</td>\n",
              "    </tr>\n",
              "    <tr>\n",
              "      <th>4</th>\n",
              "      <td>7.4</td>\n",
              "      <td>0.700</td>\n",
              "      <td>0.00</td>\n",
              "      <td>1.9</td>\n",
              "      <td>0.076</td>\n",
              "      <td>11.0</td>\n",
              "      <td>34.0</td>\n",
              "      <td>0.99780</td>\n",
              "      <td>3.51</td>\n",
              "      <td>0.56</td>\n",
              "      <td>9.4</td>\n",
              "      <td>5</td>\n",
              "      <td>A</td>\n",
              "    </tr>\n",
              "    <tr>\n",
              "      <th>...</th>\n",
              "      <td>...</td>\n",
              "      <td>...</td>\n",
              "      <td>...</td>\n",
              "      <td>...</td>\n",
              "      <td>...</td>\n",
              "      <td>...</td>\n",
              "      <td>...</td>\n",
              "      <td>...</td>\n",
              "      <td>...</td>\n",
              "      <td>...</td>\n",
              "      <td>...</td>\n",
              "      <td>...</td>\n",
              "      <td>...</td>\n",
              "    </tr>\n",
              "    <tr>\n",
              "      <th>1594</th>\n",
              "      <td>6.2</td>\n",
              "      <td>0.600</td>\n",
              "      <td>0.08</td>\n",
              "      <td>2.0</td>\n",
              "      <td>0.090</td>\n",
              "      <td>32.0</td>\n",
              "      <td>44.0</td>\n",
              "      <td>0.99490</td>\n",
              "      <td>3.45</td>\n",
              "      <td>0.58</td>\n",
              "      <td>10.5</td>\n",
              "      <td>5</td>\n",
              "      <td>A</td>\n",
              "    </tr>\n",
              "    <tr>\n",
              "      <th>1595</th>\n",
              "      <td>5.9</td>\n",
              "      <td>0.550</td>\n",
              "      <td>0.10</td>\n",
              "      <td>2.2</td>\n",
              "      <td>0.062</td>\n",
              "      <td>39.0</td>\n",
              "      <td>51.0</td>\n",
              "      <td>0.99512</td>\n",
              "      <td>3.52</td>\n",
              "      <td>0.76</td>\n",
              "      <td>11.2</td>\n",
              "      <td>6</td>\n",
              "      <td>A</td>\n",
              "    </tr>\n",
              "    <tr>\n",
              "      <th>1596</th>\n",
              "      <td>6.3</td>\n",
              "      <td>0.510</td>\n",
              "      <td>0.13</td>\n",
              "      <td>2.3</td>\n",
              "      <td>0.076</td>\n",
              "      <td>29.0</td>\n",
              "      <td>40.0</td>\n",
              "      <td>0.99574</td>\n",
              "      <td>3.42</td>\n",
              "      <td>0.75</td>\n",
              "      <td>11.0</td>\n",
              "      <td>6</td>\n",
              "      <td>A</td>\n",
              "    </tr>\n",
              "    <tr>\n",
              "      <th>1597</th>\n",
              "      <td>5.9</td>\n",
              "      <td>0.645</td>\n",
              "      <td>0.12</td>\n",
              "      <td>2.0</td>\n",
              "      <td>0.075</td>\n",
              "      <td>32.0</td>\n",
              "      <td>44.0</td>\n",
              "      <td>0.99547</td>\n",
              "      <td>3.57</td>\n",
              "      <td>0.71</td>\n",
              "      <td>10.2</td>\n",
              "      <td>5</td>\n",
              "      <td>A</td>\n",
              "    </tr>\n",
              "    <tr>\n",
              "      <th>1598</th>\n",
              "      <td>6.0</td>\n",
              "      <td>0.310</td>\n",
              "      <td>0.47</td>\n",
              "      <td>3.6</td>\n",
              "      <td>0.067</td>\n",
              "      <td>18.0</td>\n",
              "      <td>42.0</td>\n",
              "      <td>0.99549</td>\n",
              "      <td>3.39</td>\n",
              "      <td>0.66</td>\n",
              "      <td>11.0</td>\n",
              "      <td>6</td>\n",
              "      <td>C</td>\n",
              "    </tr>\n",
              "  </tbody>\n",
              "</table>\n",
              "<p>1599 rows × 13 columns</p>\n",
              "</div>"
            ],
            "text/plain": [
              "      fixed acidity  volatile acidity  citric acid  ...  alcohol  quality  citric_cat\n",
              "0               7.4             0.700         0.00  ...      9.4        5           A\n",
              "1               7.8             0.880         0.00  ...      9.8        5           A\n",
              "2               7.8             0.760         0.04  ...      9.8        5           A\n",
              "3              11.2             0.280         0.56  ...      9.8        6           C\n",
              "4               7.4             0.700         0.00  ...      9.4        5           A\n",
              "...             ...               ...          ...  ...      ...      ...         ...\n",
              "1594            6.2             0.600         0.08  ...     10.5        5           A\n",
              "1595            5.9             0.550         0.10  ...     11.2        6           A\n",
              "1596            6.3             0.510         0.13  ...     11.0        6           A\n",
              "1597            5.9             0.645         0.12  ...     10.2        5           A\n",
              "1598            6.0             0.310         0.47  ...     11.0        6           C\n",
              "\n",
              "[1599 rows x 13 columns]"
            ]
          },
          "metadata": {},
          "execution_count": 27
        }
      ]
    },
    {
      "cell_type": "code",
      "metadata": {
        "id": "xEMN4Is3OzB_",
        "outputId": "f5eda8f2-9a58-4348-af54-ad6389cbb8cf",
        "colab": {
          "base_uri": "https://localhost:8080/",
          "height": 414
        }
      },
      "source": [
        "df2"
      ],
      "execution_count": 28,
      "outputs": [
        {
          "output_type": "execute_result",
          "data": {
            "text/html": [
              "<div>\n",
              "<style scoped>\n",
              "    .dataframe tbody tr th:only-of-type {\n",
              "        vertical-align: middle;\n",
              "    }\n",
              "\n",
              "    .dataframe tbody tr th {\n",
              "        vertical-align: top;\n",
              "    }\n",
              "\n",
              "    .dataframe thead th {\n",
              "        text-align: right;\n",
              "    }\n",
              "</style>\n",
              "<table border=\"1\" class=\"dataframe\">\n",
              "  <thead>\n",
              "    <tr style=\"text-align: right;\">\n",
              "      <th></th>\n",
              "      <th>fixed acidity</th>\n",
              "      <th>volatile acidity</th>\n",
              "      <th>citric acid</th>\n",
              "      <th>residual sugar</th>\n",
              "      <th>chlorides</th>\n",
              "      <th>free sulfur dioxide</th>\n",
              "      <th>total sulfur dioxide</th>\n",
              "      <th>density</th>\n",
              "      <th>pH</th>\n",
              "      <th>sulphates</th>\n",
              "      <th>alcohol</th>\n",
              "      <th>quality</th>\n",
              "    </tr>\n",
              "  </thead>\n",
              "  <tbody>\n",
              "    <tr>\n",
              "      <th>0</th>\n",
              "      <td>7.4</td>\n",
              "      <td>0.700</td>\n",
              "      <td>0.00</td>\n",
              "      <td>1.9</td>\n",
              "      <td>0.076</td>\n",
              "      <td>11.0</td>\n",
              "      <td>34.0</td>\n",
              "      <td>0.99780</td>\n",
              "      <td>3.51</td>\n",
              "      <td>0.56</td>\n",
              "      <td>9.4</td>\n",
              "      <td>5</td>\n",
              "    </tr>\n",
              "    <tr>\n",
              "      <th>1</th>\n",
              "      <td>7.8</td>\n",
              "      <td>0.880</td>\n",
              "      <td>0.00</td>\n",
              "      <td>2.6</td>\n",
              "      <td>0.098</td>\n",
              "      <td>25.0</td>\n",
              "      <td>67.0</td>\n",
              "      <td>0.99680</td>\n",
              "      <td>3.20</td>\n",
              "      <td>0.68</td>\n",
              "      <td>9.8</td>\n",
              "      <td>5</td>\n",
              "    </tr>\n",
              "    <tr>\n",
              "      <th>2</th>\n",
              "      <td>7.8</td>\n",
              "      <td>0.760</td>\n",
              "      <td>0.04</td>\n",
              "      <td>2.3</td>\n",
              "      <td>0.092</td>\n",
              "      <td>15.0</td>\n",
              "      <td>54.0</td>\n",
              "      <td>0.99700</td>\n",
              "      <td>3.26</td>\n",
              "      <td>0.65</td>\n",
              "      <td>9.8</td>\n",
              "      <td>5</td>\n",
              "    </tr>\n",
              "    <tr>\n",
              "      <th>3</th>\n",
              "      <td>11.2</td>\n",
              "      <td>0.280</td>\n",
              "      <td>0.56</td>\n",
              "      <td>1.9</td>\n",
              "      <td>0.075</td>\n",
              "      <td>17.0</td>\n",
              "      <td>60.0</td>\n",
              "      <td>0.99800</td>\n",
              "      <td>3.16</td>\n",
              "      <td>0.58</td>\n",
              "      <td>9.8</td>\n",
              "      <td>6</td>\n",
              "    </tr>\n",
              "    <tr>\n",
              "      <th>4</th>\n",
              "      <td>7.4</td>\n",
              "      <td>0.700</td>\n",
              "      <td>0.00</td>\n",
              "      <td>1.9</td>\n",
              "      <td>0.076</td>\n",
              "      <td>11.0</td>\n",
              "      <td>34.0</td>\n",
              "      <td>0.99780</td>\n",
              "      <td>3.51</td>\n",
              "      <td>0.56</td>\n",
              "      <td>9.4</td>\n",
              "      <td>5</td>\n",
              "    </tr>\n",
              "    <tr>\n",
              "      <th>...</th>\n",
              "      <td>...</td>\n",
              "      <td>...</td>\n",
              "      <td>...</td>\n",
              "      <td>...</td>\n",
              "      <td>...</td>\n",
              "      <td>...</td>\n",
              "      <td>...</td>\n",
              "      <td>...</td>\n",
              "      <td>...</td>\n",
              "      <td>...</td>\n",
              "      <td>...</td>\n",
              "      <td>...</td>\n",
              "    </tr>\n",
              "    <tr>\n",
              "      <th>1582</th>\n",
              "      <td>6.1</td>\n",
              "      <td>0.715</td>\n",
              "      <td>0.10</td>\n",
              "      <td>2.6</td>\n",
              "      <td>0.053</td>\n",
              "      <td>13.0</td>\n",
              "      <td>27.0</td>\n",
              "      <td>0.99362</td>\n",
              "      <td>3.57</td>\n",
              "      <td>0.50</td>\n",
              "      <td>11.9</td>\n",
              "      <td>5</td>\n",
              "    </tr>\n",
              "    <tr>\n",
              "      <th>1587</th>\n",
              "      <td>5.8</td>\n",
              "      <td>0.610</td>\n",
              "      <td>0.11</td>\n",
              "      <td>1.8</td>\n",
              "      <td>0.066</td>\n",
              "      <td>18.0</td>\n",
              "      <td>28.0</td>\n",
              "      <td>0.99483</td>\n",
              "      <td>3.55</td>\n",
              "      <td>0.66</td>\n",
              "      <td>10.9</td>\n",
              "      <td>6</td>\n",
              "    </tr>\n",
              "    <tr>\n",
              "      <th>1589</th>\n",
              "      <td>6.6</td>\n",
              "      <td>0.725</td>\n",
              "      <td>0.20</td>\n",
              "      <td>7.8</td>\n",
              "      <td>0.073</td>\n",
              "      <td>29.0</td>\n",
              "      <td>79.0</td>\n",
              "      <td>0.99770</td>\n",
              "      <td>3.29</td>\n",
              "      <td>0.54</td>\n",
              "      <td>9.2</td>\n",
              "      <td>5</td>\n",
              "    </tr>\n",
              "    <tr>\n",
              "      <th>1591</th>\n",
              "      <td>5.4</td>\n",
              "      <td>0.740</td>\n",
              "      <td>0.09</td>\n",
              "      <td>1.7</td>\n",
              "      <td>0.089</td>\n",
              "      <td>16.0</td>\n",
              "      <td>26.0</td>\n",
              "      <td>0.99402</td>\n",
              "      <td>3.67</td>\n",
              "      <td>0.56</td>\n",
              "      <td>11.6</td>\n",
              "      <td>6</td>\n",
              "    </tr>\n",
              "    <tr>\n",
              "      <th>1598</th>\n",
              "      <td>6.0</td>\n",
              "      <td>0.310</td>\n",
              "      <td>0.47</td>\n",
              "      <td>3.6</td>\n",
              "      <td>0.067</td>\n",
              "      <td>18.0</td>\n",
              "      <td>42.0</td>\n",
              "      <td>0.99549</td>\n",
              "      <td>3.39</td>\n",
              "      <td>0.66</td>\n",
              "      <td>11.0</td>\n",
              "      <td>6</td>\n",
              "    </tr>\n",
              "  </tbody>\n",
              "</table>\n",
              "<p>893 rows × 12 columns</p>\n",
              "</div>"
            ],
            "text/plain": [
              "      fixed acidity  volatile acidity  citric acid  ...  sulphates  alcohol  quality\n",
              "0               7.4             0.700         0.00  ...       0.56      9.4        5\n",
              "1               7.8             0.880         0.00  ...       0.68      9.8        5\n",
              "2               7.8             0.760         0.04  ...       0.65      9.8        5\n",
              "3              11.2             0.280         0.56  ...       0.58      9.8        6\n",
              "4               7.4             0.700         0.00  ...       0.56      9.4        5\n",
              "...             ...               ...          ...  ...        ...      ...      ...\n",
              "1582            6.1             0.715         0.10  ...       0.50     11.9        5\n",
              "1587            5.8             0.610         0.11  ...       0.66     10.9        6\n",
              "1589            6.6             0.725         0.20  ...       0.54      9.2        5\n",
              "1591            5.4             0.740         0.09  ...       0.56     11.6        6\n",
              "1598            6.0             0.310         0.47  ...       0.66     11.0        6\n",
              "\n",
              "[893 rows x 12 columns]"
            ]
          },
          "metadata": {},
          "execution_count": 28
        }
      ]
    },
    {
      "cell_type": "code",
      "metadata": {
        "id": "pcrSb5QGQRaT",
        "outputId": "d1734678-42a1-40f1-dbe3-f2878d4ebc63",
        "colab": {
          "base_uri": "https://localhost:8080/"
        }
      },
      "source": [
        "df[mask5].describe"
      ],
      "execution_count": 29,
      "outputs": [
        {
          "output_type": "execute_result",
          "data": {
            "text/plain": [
              "<bound method NDFrame.describe of       fixed acidity  volatile acidity  citric acid  ...  alcohol  quality  citric_cat\n",
              "0               7.4             0.700         0.00  ...      9.4        5           A\n",
              "1               7.8             0.880         0.00  ...      9.8        5           A\n",
              "2               7.8             0.760         0.04  ...      9.8        5           A\n",
              "4               7.4             0.700         0.00  ...      9.4        5           A\n",
              "5               7.4             0.660         0.00  ...      9.4        5           A\n",
              "...             ...               ...          ...  ...      ...      ...         ...\n",
              "1581            6.2             0.560         0.09  ...     11.3        5           A\n",
              "1582            6.1             0.715         0.10  ...     11.9        5           A\n",
              "1587            5.8             0.610         0.11  ...     10.9        6           A\n",
              "1589            6.6             0.725         0.20  ...      9.2        5           A\n",
              "1591            5.4             0.740         0.09  ...     11.6        6           A\n",
              "\n",
              "[416 rows x 13 columns]>"
            ]
          },
          "metadata": {},
          "execution_count": 29
        }
      ]
    },
    {
      "cell_type": "code",
      "metadata": {
        "id": "TR4A28_3Qyrz",
        "outputId": "5c8fe016-8915-4f2b-c066-d10802e98397",
        "colab": {
          "base_uri": "https://localhost:8080/",
          "height": 277
        }
      },
      "source": [
        "df[mask5].descriptive"
      ],
      "execution_count": 30,
      "outputs": [
        {
          "output_type": "error",
          "ename": "AttributeError",
          "evalue": "ignored",
          "traceback": [
            "\u001b[0;31m---------------------------------------------------------------------------\u001b[0m",
            "\u001b[0;31mAttributeError\u001b[0m                            Traceback (most recent call last)",
            "\u001b[0;32m<ipython-input-30-e82c26d3f579>\u001b[0m in \u001b[0;36m<module>\u001b[0;34m()\u001b[0m\n\u001b[0;32m----> 1\u001b[0;31m \u001b[0mdf\u001b[0m\u001b[0;34m[\u001b[0m\u001b[0mmask5\u001b[0m\u001b[0;34m]\u001b[0m\u001b[0;34m.\u001b[0m\u001b[0mdescriptive\u001b[0m\u001b[0;34m\u001b[0m\u001b[0;34m\u001b[0m\u001b[0m\n\u001b[0m",
            "\u001b[0;32m/usr/local/lib/python3.7/dist-packages/pandas/core/generic.py\u001b[0m in \u001b[0;36m__getattr__\u001b[0;34m(self, name)\u001b[0m\n\u001b[1;32m   5139\u001b[0m             \u001b[0;32mif\u001b[0m \u001b[0mself\u001b[0m\u001b[0;34m.\u001b[0m\u001b[0m_info_axis\u001b[0m\u001b[0;34m.\u001b[0m\u001b[0m_can_hold_identifiers_and_holds_name\u001b[0m\u001b[0;34m(\u001b[0m\u001b[0mname\u001b[0m\u001b[0;34m)\u001b[0m\u001b[0;34m:\u001b[0m\u001b[0;34m\u001b[0m\u001b[0;34m\u001b[0m\u001b[0m\n\u001b[1;32m   5140\u001b[0m                 \u001b[0;32mreturn\u001b[0m \u001b[0mself\u001b[0m\u001b[0;34m[\u001b[0m\u001b[0mname\u001b[0m\u001b[0;34m]\u001b[0m\u001b[0;34m\u001b[0m\u001b[0;34m\u001b[0m\u001b[0m\n\u001b[0;32m-> 5141\u001b[0;31m             \u001b[0;32mreturn\u001b[0m \u001b[0mobject\u001b[0m\u001b[0;34m.\u001b[0m\u001b[0m__getattribute__\u001b[0m\u001b[0;34m(\u001b[0m\u001b[0mself\u001b[0m\u001b[0;34m,\u001b[0m \u001b[0mname\u001b[0m\u001b[0;34m)\u001b[0m\u001b[0;34m\u001b[0m\u001b[0;34m\u001b[0m\u001b[0m\n\u001b[0m\u001b[1;32m   5142\u001b[0m \u001b[0;34m\u001b[0m\u001b[0m\n\u001b[1;32m   5143\u001b[0m     \u001b[0;32mdef\u001b[0m \u001b[0m__setattr__\u001b[0m\u001b[0;34m(\u001b[0m\u001b[0mself\u001b[0m\u001b[0;34m,\u001b[0m \u001b[0mname\u001b[0m\u001b[0;34m:\u001b[0m \u001b[0mstr\u001b[0m\u001b[0;34m,\u001b[0m \u001b[0mvalue\u001b[0m\u001b[0;34m)\u001b[0m \u001b[0;34m->\u001b[0m \u001b[0;32mNone\u001b[0m\u001b[0;34m:\u001b[0m\u001b[0;34m\u001b[0m\u001b[0;34m\u001b[0m\u001b[0m\n",
            "\u001b[0;31mAttributeError\u001b[0m: 'DataFrame' object has no attribute 'descriptive'"
          ]
        }
      ]
    }
  ]
}